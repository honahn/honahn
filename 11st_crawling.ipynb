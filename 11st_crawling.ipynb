{
 "cells": [
  {
   "cell_type": "markdown",
   "metadata": {},
   "source": [
    "# 11번가 크롤링"
   ]
  },
  {
   "cell_type": "code",
   "execution_count": 123,
   "metadata": {},
   "outputs": [],
   "source": [
    "import requests\n",
    "import numpy as np\n",
    "import pandas as pd"
   ]
  },
  {
   "cell_type": "code",
   "execution_count": 124,
   "metadata": {},
   "outputs": [],
   "source": [
    "# 11번가에서 키워드에 대한 판매량 순 정렬 결과를 크롤링\n",
    "\n",
    "def _11st_df(kwd, top_num):           # kwd: key word,   top_num: 상위 몇개의 결과를 가져올지\n",
    "    base_url='https://search.11st.co.kr/Search.tmall'\n",
    "    params={'kwd': kwd,\n",
    "            'pageNo': 1,\n",
    "            'pageSize': 100,\n",
    "            'sortCd': 'A',  # sort condition\n",
    "            'method': 'getSearchFilterAjax'\n",
    "           }\n",
    "    response=requests.get(base_url,params=params)\n",
    "    doc=response.json()  # 해당 문서는 json\n",
    "    page=10\n",
    "    result_list=[]\n",
    "\n",
    "    def remove_comma(x):  # 가격 data에서 ,를 제외하고 문자열을 join한 후 int type으로 만드는 함수 생성\n",
    "        result=\"\".join(x.split(','))\n",
    "        return int(result)\n",
    "    \n",
    "    for i in range(1,page+1):\n",
    "        for i in range(len(doc['commonPrdList']['items'])):\n",
    "            title=doc['commonPrdList']['items'][i]['prdNm']\n",
    "            price=doc['commonPrdList']['items'][i]['finalPrc']\n",
    "            \n",
    "        # 무료배송인 경우일 때 '무료배송'표시가 아니라 배송비용에 대한 표기가 없는 data를 처리하기 위해 try-except를 활용\n",
    "            try:\n",
    "                if doc['commonPrdList']['items'][i]['deliveryPriceText']=='무료배송':\n",
    "                     shipping_charge='무'\n",
    "                else:\n",
    "                    shipping_charge='유'\n",
    "            except:\n",
    "                    shipping_charge='무'\n",
    "            \n",
    "        # 별점 data가 없는 경우 nan입력\n",
    "            try:\n",
    "                star_point=doc['commonPrdList']['items'][i]['buySatisfyScore']\n",
    "            except:\n",
    "                star_point=np.nan\n",
    "            \n",
    "            review_count=doc['commonPrdList']['items'][i]['reviewCount']\n",
    "    \n",
    "            result_list.append({\n",
    "                'title': title,\n",
    "                'price': remove_comma(price),\n",
    "                'shipping_charge': shipping_charge,\n",
    "                'star_point': star_point,\n",
    "                'review_count': review_count\n",
    "            })\n",
    "        \n",
    "        result_df=pd.DataFrame(result_list)\n",
    "        \n",
    "        # 크롤링한 결과의 품목에서 관심 대상(해당 기업의 전자제품)이 아닌 호환 악세서리, 관련 없는 제품 등의 품목을 제외\n",
    "        stop_word = ['USB', '충전기', '케이스', '케이블', '페이퍼', 'A4', '잉크', '꽁짜폰', '기저귀',\n",
    "            '사과', '파우치', '앱스토어', '기프트카드', '필름', '요금제', '주스', '거름망',\n",
    "            '세탁망', '토너', 'CLT', '스트랩', '드라이버', '거치대', '플레이 스토어', '잠옷']\n",
    "        \n",
    "        # stop_word에 해당하는 단어가 제품명에 포함되어 있을경우 그 index를 반환한다.\n",
    "        # stop_word에 해당하는 단어가 제품명에 포함되어 있지 않을 경우 -1을 반환한다.\n",
    "        # 따라서 반환값이 -1이 아닐 경우에 해당 data를 drop.\n",
    "        for i in range(len(result_df['title'])):\n",
    "            for j in stop_word:\n",
    "                if result_df.loc[i, 'title'].find(j) != -1:\n",
    "                    result_df.drop(index=i, inplace=True)\n",
    "                    break\n",
    "                    \n",
    "        return result_df.head(top_num)"
   ]
  },
  {
   "cell_type": "markdown",
   "metadata": {},
   "source": [
    "## 고찰"
   ]
  },
  {
   "cell_type": "markdown",
   "metadata": {},
   "source": [
    "1. Json type의 크롤링에서 헤매었다.\n",
    "> Json type의 경우 Network 탭에서 response를 확인해 request를 추적해야 한다."
   ]
  },
  {
   "cell_type": "markdown",
   "metadata": {},
   "source": [
    "2. 크롤링한 data에서 일관되지 않은 data에 대한 처리 - try-except 활용\n",
    ">(무료배송이지만 '무료배송'표기가 해당 css selector에 저장된 것이 아니라 해당 css selector 자체가 없는 경우가 몇개 존재했다)\n",
    ">\n",
    ">(별점 data가 존재하지 않는 품목이 존재했다)"
   ]
  },
  {
   "cell_type": "markdown",
   "metadata": {},
   "source": [
    "3. '112,450'과 같은 가격표기 방식을 integer type으로 변환하기 위해 remove_comma() 함수 생성\n",
    "> ','를 기준으로 split()한 후 join -> int type 변환\n",
    ">\n",
    "> data frame의 형태이므로 pd.to_numeric을 활용 하는 방법도 있었다."
   ]
  },
  {
   "cell_type": "markdown",
   "metadata": {},
   "source": [
    "4. stop_word의 부족함\n",
    "> 충분히 불필요한 data가 filtering 됐다고 보기 어렵다.(상위 결과를 보았을 때는 양호해 보였으나)\n",
    ">\n",
    "> NLP에 대한 추가학습 필요성"
   ]
  },
  {
   "cell_type": "markdown",
   "metadata": {},
   "source": [
    "sample"
   ]
  },
  {
   "cell_type": "code",
   "execution_count": null,
   "metadata": {},
   "outputs": [],
   "source": []
  }
 ],
 "metadata": {
  "kernelspec": {
   "display_name": "Python 3",
   "language": "python",
   "name": "python3"
  },
  "language_info": {
   "codemirror_mode": {
    "name": "ipython",
    "version": 3
   },
   "file_extension": ".py",
   "mimetype": "text/x-python",
   "name": "python",
   "nbconvert_exporter": "python",
   "pygments_lexer": "ipython3",
   "version": "3.8.5"
  }
 },
 "nbformat": 4,
 "nbformat_minor": 4
}
